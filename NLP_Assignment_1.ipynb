{
 "cells": [
  {
   "cell_type": "markdown",
   "metadata": {},
   "source": [
    "# NLP Assignment 1 (40% of grade): Sentiment Analysis from Tweets\n",
    "\n",
    "This coursework will involve you implementing functions for a text classifier, which you will train to identify the **sentiment expressed in a text** in a dataset of approx. 27,000 entries, which will be split into a 80%/20% training/test split. \n",
    "\n",
    "In this template you are given the basis for that implementation, though some of the functions are missing, which you have to fill in.\n",
    "\n",
    "Follow the instructions file **NLP_Assignment_1_Instructions.pdf** for details of each question - the outline of what needs to be achieved for each question is as below.\n",
    "\n",
    "You must submit all **ipython notebooks and extra resources you need to run the code if you've added them** in the code submission, and a **2 page report (pdf)** in the report submission on QMPlus where you report your methods and findings according to the instructions file for each question."
   ]
  },
  {
   "cell_type": "markdown",
   "metadata": {},
   "source": [
    "## Downloads, Package Imports, Data Loading and Splitting"
   ]
  },
  {
   "cell_type": "code",
   "execution_count": 58,
   "metadata": {},
   "outputs": [
    {
     "name": "stdout",
     "output_type": "stream",
     "text": [
      "Requirement already satisfied: nltk in /opt/conda/lib/python3.11/site-packages (3.9.1)\n",
      "Requirement already satisfied: click in /opt/conda/lib/python3.11/site-packages (from nltk) (8.1.7)\n",
      "Requirement already satisfied: joblib in /opt/conda/lib/python3.11/site-packages (from nltk) (1.4.2)\n",
      "Requirement already satisfied: regex>=2021.8.3 in /opt/conda/lib/python3.11/site-packages (from nltk) (2024.11.6)\n",
      "Requirement already satisfied: tqdm in /opt/conda/lib/python3.11/site-packages (from nltk) (4.66.4)\n",
      "Note: you may need to restart the kernel to use updated packages.\n"
     ]
    }
   ],
   "source": [
    "pip install nltk"
   ]
  },
  {
   "cell_type": "code",
   "execution_count": 59,
   "metadata": {},
   "outputs": [
    {
     "name": "stdout",
     "output_type": "stream",
     "text": [
      "Requirement already satisfied: pandas in /opt/conda/lib/python3.11/site-packages (2.2.2)\n",
      "Requirement already satisfied: numpy>=1.23.2 in /opt/conda/lib/python3.11/site-packages (from pandas) (2.0.2)\n",
      "Requirement already satisfied: python-dateutil>=2.8.2 in /opt/conda/lib/python3.11/site-packages (from pandas) (2.9.0)\n",
      "Requirement already satisfied: pytz>=2020.1 in /opt/conda/lib/python3.11/site-packages (from pandas) (2024.1)\n",
      "Requirement already satisfied: tzdata>=2022.7 in /opt/conda/lib/python3.11/site-packages (from pandas) (2024.1)\n",
      "Requirement already satisfied: six>=1.5 in /opt/conda/lib/python3.11/site-packages (from python-dateutil>=2.8.2->pandas) (1.16.0)\n",
      "Note: you may need to restart the kernel to use updated packages.\n"
     ]
    }
   ],
   "source": [
    "pip install pandas"
   ]
  },
  {
   "cell_type": "code",
   "execution_count": 60,
   "metadata": {},
   "outputs": [
    {
     "name": "stdout",
     "output_type": "stream",
     "text": [
      "Requirement already satisfied: numpy in /opt/conda/lib/python3.11/site-packages (2.0.2)\n",
      "Note: you may need to restart the kernel to use updated packages.\n"
     ]
    }
   ],
   "source": [
    "pip install numpy"
   ]
  },
  {
   "cell_type": "code",
   "execution_count": 61,
   "metadata": {},
   "outputs": [
    {
     "name": "stdout",
     "output_type": "stream",
     "text": [
      "Requirement already satisfied: pip in /opt/conda/lib/python3.11/site-packages (24.3.1)\n",
      "Note: you may need to restart the kernel to use updated packages.\n"
     ]
    }
   ],
   "source": [
    "pip install --upgrade pip"
   ]
  },
  {
   "cell_type": "code",
   "execution_count": 62,
   "metadata": {},
   "outputs": [],
   "source": [
    "import csv                               # csv reader\n",
    "from sklearn.svm import LinearSVC\n",
    "from nltk.classify import SklearnClassifier\n",
    "from sklearn.pipeline import Pipeline\n",
    "from sklearn.metrics import precision_recall_fscore_support # to report on precision and recall\n",
    "import numpy as np\n",
    "import re"
   ]
  },
  {
   "cell_type": "markdown",
   "metadata": {},
   "source": [
    "**Minor Update to `split_and_preprocess_data(percentage)`**: Here I have added 2 more lines of code which populate 2 more global lists train_data_1 and test_data_1. These lists contain tuples with the original text, the features as well as the labels, which is useful for storing false positives/negatives later. "
   ]
  },
  {
   "cell_type": "code",
   "execution_count": 63,
   "metadata": {},
   "outputs": [],
   "source": [
    "def load_data(path):\n",
    "    \"\"\"Load data from a tab-separated file and append it to raw_data.\"\"\"\n",
    "    with open(path) as f:\n",
    "        reader = csv.reader(f, delimiter='\\t')\n",
    "        for line in reader:\n",
    "            if line[0] == \"Id\":  # skip header\n",
    "                continue\n",
    "            (label, text) = parse_data_line(line)\n",
    "            raw_data.append((text, label))\n",
    "\n",
    "def split_and_preprocess_data(percentage):\n",
    "    \"\"\"Split the data between train_data and test_data according to the percentage\n",
    "    and performs the preprocessing.\"\"\"\n",
    "    num_samples = len(raw_data)\n",
    "    num_training_samples = int((percentage * num_samples))\n",
    "    for (text, label) in raw_data[:num_training_samples]:\n",
    "        train_data.append((to_feature_vector(pre_process(text)),label))\n",
    "        train_data_1.append((text, to_feature_vector(pre_process(text)),label))\n",
    "    for (text, label) in raw_data[num_training_samples:]:\n",
    "        test_data.append((to_feature_vector(pre_process(text)),label))\n",
    "        test_data_1.append((text, to_feature_vector(pre_process(text)),label))"
   ]
  },
  {
   "cell_type": "markdown",
   "metadata": {},
   "source": [
    "# Question 1: Input and Basic preprocessing (10 marks)\n",
    "\n",
    "1. `parse_data_line()`: Extracts the text samples and the associated labels from each line of data passed to the function and retutrs it as a tuple.\n",
    "2. `pre-process()`:  Employs the same methods as in Lab 1 to perform some pre-processing on the dataset. Some details about the preprocessing:\n",
    "    - *Punctuation Separation*: Here regex operations are used to separate punctuation marks before and after the end of a word.\n",
    "    - *Normalization*: Lowercases the text, this should reduce ambiguity for cases such where words like \"UK\" and \"uk\" are in the same text.\n",
    "    - *Tokenisation*: Split the text on trailing spaces to obtain individual words or unigrams."
   ]
  },
  {
   "cell_type": "code",
   "execution_count": 64,
   "metadata": {},
   "outputs": [],
   "source": [
    "def parse_data_line(data_line):\n",
    "    \"\"\" Should return a tuple of the label as just positive or negative and the statement e.g. (label, statement)\"\"\"\n",
    "    _, label, statement = data_line\n",
    "    return (label, statement)"
   ]
  },
  {
   "cell_type": "code",
   "execution_count": 65,
   "metadata": {},
   "outputs": [],
   "source": [
    "\n",
    "# Input: a string of one statement\n",
    "def pre_process(text):\n",
    "    \"\"\" \n",
    "    Performs Punctuation Separation and Lowercases the text (Normalization), followed by tokenizing the preprocessed text.\n",
    "\n",
    "    Parameters:\n",
    "    text (string): passes a line of text (assume sentence segmentation has already been done)\n",
    "\n",
    "    Returns:\n",
    "    List[string]: Should return a list of tokens.\n",
    "    \"\"\"\n",
    "    # # #  THE CODE BELOW WAS TAKEN FROM preProcess() FUNCTION GIVEN IN LAB 1\n",
    "    \n",
    "    # print(\"original:\", text)\n",
    "    # sentence segmentation - assume already done\n",
    "    # word tokenisation\n",
    "    text = re.sub(r\"(\\w)([.,;:!?'\\\"”\\)])\", r\"\\1 \\2\", text) # separates punctuation at ends of strings\n",
    "    text = re.sub(r\"([.,;:!?'\\\"“\\(\\)])(\\w)\", r\"\\1 \\2\", text) # separates punctuation at beginning of strings\n",
    "    # print(\"tokenising:\", text)\n",
    "    tokens = re.split(r\"\\s+\",text)\n",
    "    # normalisation - only by lower casing for now\n",
    "    tokens = [t.lower() for t in tokens]\n",
    "    return tokens"
   ]
  },
  {
   "cell_type": "markdown",
   "metadata": {},
   "source": [
    "# Question 2: Basic Feature Extraction (20 marks)\n",
    "\n",
    "I make use of a \"bag of words\" representation for the features which converts tokens into frequency dictionaries. I have also populated the global feature dictionary to observe how many overall features are created after applying this function upon the entire dataset. To populate the global feature dictionary, I use the set of unique tokens for the current list of tokens. "
   ]
  },
  {
   "cell_type": "code",
   "execution_count": 66,
   "metadata": {},
   "outputs": [],
   "source": [
    "global_feature_dict = {} # A global dictionary of features\n",
    "\n",
    "def to_feature_vector(tokens):\n",
    "    \"\"\" Should return a dictionary containing features as keys, and weights as values eg.({\"Feature 1\" : 10, \"Feature 2\": 20 ...})\"\"\"\n",
    "    feature_dict = {}\n",
    "    unique_tokens = set(tokens)\n",
    "    for token in tokens:\n",
    "        feature_dict[token] = feature_dict.get(token, 0) + 1\n",
    "    for token in unique_tokens:\n",
    "        global_feature_dict[token] = global_feature_dict.get(token, 0) + 1\n",
    "    return feature_dict"
   ]
  },
  {
   "cell_type": "code",
   "execution_count": 67,
   "metadata": {},
   "outputs": [],
   "source": [
    "# TRAINING AND VALIDATING OUR CLASSIFIER\n",
    "\n",
    "def train_classifier(data):\n",
    "    print(\"Training Classifier...\")\n",
    "    pipeline =  Pipeline([('svc', LinearSVC())])\n",
    "    return SklearnClassifier(pipeline).train(data)"
   ]
  },
  {
   "cell_type": "markdown",
   "metadata": {},
   "source": [
    "# Question 3: Cross-validation (20 marks)\n",
    "\n",
    "The `cross_validate()` function performs K-fold cross validation. The function returns a list of the performance metrics for each fold. For each fold, current fold of data represents the test data and the remaining k-1 fold represent the training data. For the performance metrics I made use of the `precision_recall_fscore_support()` and `accuracy_score()` functions from `sklearn`. I used `precision_recall_fscore_support()` as it returns the metrics in an easy to extract way compared to `classification_report()`. The metrics are appended to the local variable `cv_results` which is then appended to the results variable returned by the function. "
   ]
  },
  {
   "cell_type": "code",
   "execution_count": 68,
   "metadata": {},
   "outputs": [],
   "source": [
    "#solution\n",
    "from sklearn.metrics import precision_recall_fscore_support, accuracy_score\n",
    "\n",
    "\n",
    "def cross_validate(dataset, folds):\n",
    "    \"\"\"\n",
    "    Performs K-fold Cross Validation and returns Performance Metrics for each fold in a list. \n",
    "    The metrics returned are Precision, Recall, F1-score and Accuracy.\n",
    "\n",
    "    Parameters:\n",
    "    Dataset -> List[Tuple(string, string)]\n",
    "    Folds -> int\n",
    "\n",
    "    Returns:\n",
    "    List[np.array([...]), np.array([...]), np.array([...]), float]\n",
    "    \"\"\"\n",
    "    \n",
    "    results = []\n",
    "    fold_size = int(len(dataset)/folds) + 1\n",
    "    \n",
    "    for i in range(0,len(dataset),int(fold_size)):\n",
    "        # insert code here that trains and tests on the 10 folds of data in the dataset\n",
    "        print(\"Fold start on items %d - %d\" % (i, i+fold_size))\n",
    "        # FILL IN THE METHOD HERE\n",
    "        train_data, test_data  = dataset[:i]+dataset[i+fold_size:], dataset[i:i+fold_size]\n",
    "        test_inputs, test_labels = [data[0] for data in dataset], [data[1] for data in dataset]\n",
    "        classifier = train_classifier(train_data)\n",
    "        predicted_labels = predict_labels(test_inputs, classifier)\n",
    "        # report = classification_report(test_labels, predicted_labels, output_dict=True)\n",
    "        # results.append(report)\n",
    "        precision, recall, fscore, _ = precision_recall_fscore_support(test_labels, predicted_labels)\n",
    "        accuracy = accuracy_score(test_labels, predicted_labels)\n",
    "        cv_results = [precision, recall, fscore, accuracy]\n",
    "        results.append(cv_results)\n",
    "    return results"
   ]
  },
  {
   "cell_type": "code",
   "execution_count": 69,
   "metadata": {},
   "outputs": [],
   "source": [
    "# PREDICTING LABELS GIVEN A CLASSIFIER\n",
    "\n",
    "def predict_labels(samples, classifier):\n",
    "    \"\"\"Assuming preprocessed samples, return their predicted labels from the classifier model.\"\"\"\n",
    "    return classifier.classify_many(samples)\n",
    "\n",
    "def predict_label_from_raw(sample, classifier):\n",
    "    \"\"\"Assuming raw text, return its predicted label from the classifier model.\"\"\"\n",
    "    return classifier.classify(to_feature_vector(pre_process(reviewSample)))"
   ]
  },
  {
   "cell_type": "markdown",
   "metadata": {},
   "source": [
    "## Populating Raw Data, Train Data and Test Data\n",
    "\n",
    "Here I have added two new variables named train_data_1 and test_data_1 which contain the same data as train_data and test_data but also contain the original texts as part of the tuples. This variables helps when storing the false positives and negatives in a separate file as I also wanted to retain the original text for the error analysis."
   ]
  },
  {
   "cell_type": "code",
   "execution_count": 70,
   "metadata": {},
   "outputs": [
    {
     "name": "stdout",
     "output_type": "stream",
     "text": [
      "Now 0 rawData, 0 trainData, 0 testData\n",
      "Preparing the dataset...\n",
      "Now 33540 rawData, 0 trainData, 0 testData\n",
      "Preparing training and test data...\n",
      "After split, 33540 rawData, 26832 trainData, 6708 testData\n",
      "Training Samples: \n",
      "26832\n",
      "Features: \n",
      "64640\n"
     ]
    }
   ],
   "source": [
    "# MAIN\n",
    "\n",
    "# loading reviews\n",
    "# initialize global lists that will be appended to by the methods below\n",
    "raw_data = []          # the filtered data from the dataset file\n",
    "train_data = []        # the pre-processed training data as a percentage of the total dataset\n",
    "test_data = []         # the pre-processed test data as a percentage of the total dataset\n",
    "\n",
    "# This version of the varibales with contain the original text, features as well as the labels for train and test data\n",
    "\n",
    "train_data_1 = []      \n",
    "test_data_1 = []  \n",
    "\n",
    "\n",
    "# references to the data files\n",
    "data_file_path = 'sentiment-dataset.tsv'\n",
    "\n",
    "# Do the actual stuff (i.e. call the functions we've made)\n",
    "# We parse the dataset and put it in a raw data list\n",
    "print(\"Now %d rawData, %d trainData, %d testData\" % (len(raw_data), len(train_data), len(test_data)),\n",
    "      \"Preparing the dataset...\",sep='\\n')\n",
    "\n",
    "load_data(data_file_path) \n",
    "\n",
    "# We split the raw dataset into a set of training data and a set of test data (80/20)\n",
    "# You do the cross validation on the 80% (training data)\n",
    "# We print the number of training samples and the number of features before the split\n",
    "print(\"Now %d rawData, %d trainData, %d testData\" % (len(raw_data), len(train_data), len(test_data)),\n",
    "      \"Preparing training and test data...\",sep='\\n')\n",
    "\n",
    "split_and_preprocess_data(0.8)\n",
    "\n",
    "# We print the number of training samples and the number of features after the split\n",
    "print(\"After split, %d rawData, %d trainData, %d testData\" % (len(raw_data), len(train_data), len(test_data)),\n",
    "      \"Training Samples: \", len(train_data), \"Features: \", len(global_feature_dict), sep='\\n')\n"
   ]
  },
  {
   "cell_type": "code",
   "execution_count": 71,
   "metadata": {},
   "outputs": [
    {
     "name": "stdout",
     "output_type": "stream",
     "text": [
      "Fold start on items 0 - 2684\n",
      "Training Classifier...\n",
      "Fold start on items 2684 - 5368\n",
      "Training Classifier...\n",
      "Fold start on items 5368 - 8052\n",
      "Training Classifier...\n",
      "Fold start on items 8052 - 10736\n",
      "Training Classifier...\n",
      "Fold start on items 10736 - 13420\n",
      "Training Classifier...\n",
      "Fold start on items 13420 - 16104\n",
      "Training Classifier...\n",
      "Fold start on items 16104 - 18788\n",
      "Training Classifier...\n",
      "Fold start on items 18788 - 21472\n",
      "Training Classifier...\n",
      "Fold start on items 21472 - 24156\n",
      "Training Classifier...\n",
      "Fold start on items 24156 - 26840\n",
      "Training Classifier...\n"
     ]
    }
   ],
   "source": [
    "cv = cross_validate(train_data, 10)  # will work and output overall performance of p, r, f-score when cv implemented"
   ]
  },
  {
   "cell_type": "code",
   "execution_count": 72,
   "metadata": {},
   "outputs": [
    {
     "data": {
      "text/plain": [
       "([[array([0.98143726, 0.98626561]),\n",
       "   array([0.97393084, 0.99025586]),\n",
       "   array([0.97766964, 0.9882567 ]),\n",
       "   0.9846079308288611],\n",
       "  [array([0.97757654, 0.98775347]),\n",
       "   array([0.97683938, 0.98814747]),\n",
       "   array([0.97720782, 0.98795043]),\n",
       "   0.9842352415026834],\n",
       "  [array([0.97049004, 0.98449877]),\n",
       "   array([0.97069913, 0.98438657]),\n",
       "   array([0.97059457, 0.98444267]),\n",
       "   0.9796511627906976],\n",
       "  [array([0.97906497, 0.98540851]),\n",
       "   array([0.97231498, 0.98900222]),\n",
       "   array([0.97567831, 0.98720209]),\n",
       "   0.9832289803220036],\n",
       "  [array([0.97908539, 0.98591229]),\n",
       "   array([0.9732845 , 0.98900222]),\n",
       "   array([0.97617633, 0.98745484]),\n",
       "   0.9835644007155635],\n",
       "  [array([0.98264454, 0.98728212]),\n",
       "   array([0.97586987, 0.99088267]),\n",
       "   array([0.97924549, 0.98907912]),\n",
       "   0.9856887298747764],\n",
       "  [array([0.98147948, 0.98744247]),\n",
       "   array([0.97619304, 0.99025586]),\n",
       "   array([0.97882912, 0.98884716]),\n",
       "   0.9853905784138343],\n",
       "  [array([0.97815508, 0.98646574]),\n",
       "   array([0.97436174, 0.98848937]),\n",
       "   array([0.97625472, 0.98747652]),\n",
       "   0.9836016696481813],\n",
       "  [array([0.97931781, 0.98641814]),\n",
       "   array([0.97425401, 0.98911619]),\n",
       "   array([0.97677935, 0.98776532]),\n",
       "   0.9839743589743589],\n",
       "  [array([0.98177083, 0.98665985]),\n",
       "   array([0.97468491, 0.9904268 ]),\n",
       "   array([0.97821504, 0.98853974]),\n",
       "   0.9849806201550387]],\n",
       " 2)"
      ]
     },
     "execution_count": 72,
     "metadata": {},
     "output_type": "execute_result"
    }
   ],
   "source": [
    "cv, len(cv[0][0])"
   ]
  },
  {
   "cell_type": "markdown",
   "metadata": {},
   "source": [
    "# Question 4: Error Analysis (20 marks)\n",
    "\n",
    "Here I recreate the first fold of the cross validation to obtain the confusion matrix heat map."
   ]
  },
  {
   "cell_type": "code",
   "execution_count": 73,
   "metadata": {},
   "outputs": [],
   "source": [
    "from sklearn import metrics\n",
    "import matplotlib.pyplot as plt\n",
    "# a function to make the confusion matrix readable and pretty\n",
    "def confusion_matrix_heatmap(y_test, preds, labels):\n",
    "    \"\"\"Function to plot a confusion matrix\"\"\"\n",
    "    # pass labels to the confusion matrix function to ensure right order\n",
    "    # cm = metrics.confusion_matrix(y_test, preds, labels)\n",
    "    cm = metrics.confusion_matrix(y_test, preds, labels=labels)\n",
    "    fig = plt.figure(figsize=(10,10))\n",
    "    ax = fig.add_subplot(111)\n",
    "    cax = ax.matshow(cm)\n",
    "    plt.title('Confusion matrix of the classifier')\n",
    "    fig.colorbar(cax)\n",
    "    ax.set_xticks(np.arange(len(labels)))\n",
    "    ax.set_yticks(np.arange(len(labels)))\n",
    "    ax.set_xticklabels( labels, rotation=45)\n",
    "    ax.set_yticklabels( labels)\n",
    "\n",
    "    for i in range(len(cm)):\n",
    "        for j in range(len(cm)):\n",
    "            text = ax.text(j, i, cm[i, j],\n",
    "                           ha=\"center\", va=\"center\", color=\"w\")\n",
    "\n",
    "    plt.xlabel('Predicted')\n",
    "    plt.ylabel('True')\n",
    "    \n",
    "    # fix for mpl bug that cuts off top/bottom of seaborn viz:\n",
    "    b, t = plt.ylim() # discover the values for bottom and top\n",
    "    b += 0.5 # Add 0.5 to the bottom\n",
    "    t -= 0.5 # Subtract 0.5 from the top\n",
    "    plt.ylim(b, t) # update the ylim(bottom, top) values\n",
    "    plt.show() # ta-da!\n",
    "    plt.show()"
   ]
  },
  {
   "cell_type": "markdown",
   "metadata": {},
   "source": [
    "## Testing on First fold of cross validation"
   ]
  },
  {
   "cell_type": "code",
   "execution_count": 74,
   "metadata": {},
   "outputs": [
    {
     "name": "stdout",
     "output_type": "stream",
     "text": [
      "Training Classifier...\n"
     ]
    }
   ],
   "source": [
    "fold_size = int(len(train_data)/10) + 1\n",
    "train_data_2, test_data_2  = train_data_1[fold_size:], train_data_1[:fold_size]\n",
    "test_text, test_inputs, test_labels = [data[0] for data in test_data_2], [data[1] for data in test_data_2], [data[2] for data in test_data_2]\n",
    "classifier = train_classifier(train_data[fold_size:])\n",
    "predicted_labels = predict_labels(test_inputs, classifier)"
   ]
  },
  {
   "cell_type": "code",
   "execution_count": 75,
   "metadata": {},
   "outputs": [
    {
     "data": {
      "image/png": "[encoded data removed]",
      "text/plain": [
       "<Figure size 1000x1000 with 2 Axes>"
      ]
     },
     "metadata": {},
     "output_type": "display_data"
    }
   ],
   "source": [
    "confusion_matrix_heatmap(test_labels, predicted_labels, [\"positive\", \"negative\"])\n"
   ]
  },
  {
   "cell_type": "markdown",
   "metadata": {},
   "source": [
    "## Storing False Positives and Negatives in a separate file\n",
    "\n",
    "Here I store the False Positives and Negatives in a separate file (\"false_positives_and_negatives.tsv\"). The file stores the original text, features, Predicted Label and True Labels. I zip the values of test_data_1 and predicted labels and iterate over it and check if the predicted and true labels differ value (indicating false positive/negative)."
   ]
  },
  {
   "cell_type": "code",
   "execution_count": 76,
   "metadata": {},
   "outputs": [
    {
     "name": "stdout",
     "output_type": "stream",
     "text": [
      "Successfully saved False Positives/Negatives to false_positives_and_negatives.tsv\n"
     ]
    }
   ],
   "source": [
    "output_fp_fn_path = \"false_positives_and_negatives.tsv\"\n",
    "\n",
    "with open(output_fp_fn_path, \"w\") as f:\n",
    "    f.write(\"Original Text\\tFeatures\\tPredicted Label\\tGround Truth Label\\n\")\n",
    "    for (text, features, true_label), pred_label in zip(test_data_1, predicted_labels):\n",
    "        if pred_label != true_label:\n",
    "            f.write(f\"{text}\\t{features}\\t{pred_label}\\t{true_label}\\n\")\n",
    "print(\"Successfully saved False Positives/Negatives to\", output_fp_fn_path)"
   ]
  }
 ],
 "metadata": {
  "kernelspec": {
   "display_name": "Python 3 (ipykernel)",
   "language": "python",
   "name": "python3"
  },
  "language_info": {
   "codemirror_mode": {
    "name": "ipython",
    "version": 3
   },
   "file_extension": ".py",
   "mimetype": "text/x-python",
   "name": "python",
   "nbconvert_exporter": "python",
   "pygments_lexer": "ipython3",
   "version": "3.11.9"
  }
 },
 "nbformat": 4,
 "nbformat_minor": 4
}
